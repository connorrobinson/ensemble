{
 "cells": [
  {
   "cell_type": "code",
   "execution_count": 9,
   "metadata": {},
   "outputs": [
    {
     "name": "stderr",
     "output_type": "stream",
     "text": [
      "/Users/Connor/Dropbox/Research/python/ensemble/ensemble.py:227: RuntimeWarning: invalid value encountered in log10\n",
      "  self.imag = -2.5 * np.log10(self.counts)\n",
      "/Users/Connor/Dropbox/Research/python/ensemble/ensemble.py:251: RuntimeWarning: invalid value encountered in log10\n",
      "  self.m = -2.5 * np.log10(self.counts)\n",
      "/Users/Connor/Dropbox/Research/python/ensemble/ensemble.py:929: RuntimeWarning: invalid value encountered in less\n",
      "  self.w3[self.snr < snr] = 0\n",
      "/Users/Connor/Dropbox/Research/python/ensemble/ensemble.py:930: RuntimeWarning: invalid value encountered in less\n",
      "  self.m[self.snr < snr] = 1e15\n"
     ]
    },
    {
     "data": {
      "application/vnd.jupyter.widget-view+json": {
       "model_id": "1598fcfef9ae407785818ac8a3caa82d",
       "version_major": 2,
       "version_minor": 0
      },
      "text/plain": [
       "Canvas(toolbar=Toolbar(toolitems=[('Home', 'Reset original view', 'home', 'home'), ('Back', 'Back to previous …"
      ]
     },
     "metadata": {},
     "output_type": "display_data"
    },
    {
     "data": {
      "application/vnd.jupyter.widget-view+json": {
       "model_id": "9071a637214f4769b9103cf0762f2a44",
       "version_major": 2,
       "version_minor": 0
      },
      "text/plain": [
       "HBox(children=(Button(description='Re-calculate Solution', style=ButtonStyle()), Button(description='Reset wei…"
      ]
     },
     "metadata": {},
     "output_type": "display_data"
    },
    {
     "data": {
      "application/vnd.jupyter.widget-view+json": {
       "model_id": "1bd0a629d3c24c90a40b6b3362129716",
       "version_major": 2,
       "version_minor": 0
      },
      "text/plain": [
       "Output()"
      ]
     },
     "metadata": {},
     "output_type": "display_data"
    }
   ],
   "source": [
    "import ensemble\n",
    "from astropy.io import ascii\n",
    "\n",
    "\n",
    "#Load in the data\n",
    "localdir = './example_data/'\n",
    "table = ascii.read(localdir + 'pilot_phot_master_obslog.dat')\n",
    "\n",
    "photfiles = [localdir+x for x in table['phot_table_file']]\n",
    "nSNR = 1\n",
    "\n",
    "%matplotlib widget\n",
    "self = ensemble.ens(photfiles, table['time'], snr_cutoff = nSNR)\n",
    "self.basicExclude()\n",
    "self.solveEnsemble()\n",
    "self.plotEnsemble()"
   ]
  },
  {
   "cell_type": "code",
   "execution_count": null,
   "metadata": {},
   "outputs": [],
   "source": []
  }
 ],
 "metadata": {
  "kernelspec": {
   "display_name": "Python 3",
   "language": "python",
   "name": "python3"
  },
  "language_info": {
   "codemirror_mode": {
    "name": "ipython",
    "version": 3
   },
   "file_extension": ".py",
   "mimetype": "text/x-python",
   "name": "python",
   "nbconvert_exporter": "python",
   "pygments_lexer": "ipython3",
   "version": "3.7.4"
  }
 },
 "nbformat": 4,
 "nbformat_minor": 4
}
