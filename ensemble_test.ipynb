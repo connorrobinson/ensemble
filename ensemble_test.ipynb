{
 "cells": [
  {
   "cell_type": "code",
   "execution_count": 1,
   "metadata": {
    "id": "_4crvNioJn4Z",
    "outputId": "24a92dce-199f-44d4-ce07-44643fcbc532"
   },
   "outputs": [
    {
     "name": "stderr",
     "output_type": "stream",
     "text": [
      "/Users/connor/Dropbox/Research/python/ensemble/ensemble.py:227: RuntimeWarning: invalid value encountered in log10\n",
      "  self.imag = -2.5 * np.log10(self.counts)\n",
      "/Users/connor/Dropbox/Research/python/ensemble/ensemble.py:251: RuntimeWarning: invalid value encountered in log10\n",
      "  self.m = -2.5 * np.log10(self.counts)\n"
     ]
    },
    {
     "data": {
      "application/vnd.jupyter.widget-view+json": {
       "model_id": "ba59eed7f92b43e2b6b7ffba8d4caef4",
       "version_major": 2,
       "version_minor": 0
      },
      "text/plain": [
       "Canvas(toolbar=Toolbar(toolitems=[('Home', 'Reset original view', 'home', 'home'), ('Back', 'Back to previous …"
      ]
     },
     "metadata": {},
     "output_type": "display_data"
    },
    {
     "data": {
      "application/vnd.jupyter.widget-view+json": {
       "model_id": "46270c1cf0ee4e0abbb66b1aed555e19",
       "version_major": 2,
       "version_minor": 0
      },
      "text/plain": [
       "HBox(children=(Button(description='Re-calculate Solution', layout=Layout(height='auto', width='auto'), style=B…"
      ]
     },
     "metadata": {},
     "output_type": "display_data"
    },
    {
     "data": {
      "application/vnd.jupyter.widget-view+json": {
       "model_id": "f260809d619e49adae779a142fee241a",
       "version_major": 2,
       "version_minor": 0
      },
      "text/plain": [
       "Output()"
      ]
     },
     "metadata": {},
     "output_type": "display_data"
    }
   ],
   "source": [
    "import ensemble\n",
    "from astropy.io import ascii\n",
    "\n",
    "localdir = './example_data/'\n",
    "table = ascii.read(localdir + 'pilot_phot_master_obslog.dat')\n",
    "\n",
    "photfiles = [localdir+x for x in table['phot_table_file']]\n",
    "nSNR = 1\n",
    "\n",
    "%matplotlib widget\n",
    "self = ensemble.ens(photfiles, table['time'], snr_cutoff = nSNR)\n",
    "self.basicExclude()\n",
    "self.solveEnsemble()\n",
    "self.plotEnsemble(sizescale = 0.8)"
   ]
  },
  {
   "cell_type": "code",
   "execution_count": null,
   "metadata": {},
   "outputs": [],
   "source": []
  }
 ],
 "metadata": {
  "colab": {
   "name": "ensemble_test.ipynb",
   "provenance": []
  },
  "kernelspec": {
   "display_name": "Python 3",
   "language": "python",
   "name": "python3"
  },
  "language_info": {
   "codemirror_mode": {
    "name": "ipython",
    "version": 3
   },
   "file_extension": ".py",
   "mimetype": "text/x-python",
   "name": "python",
   "nbconvert_exporter": "python",
   "pygments_lexer": "ipython3",
   "version": "3.8.8"
  }
 },
 "nbformat": 4,
 "nbformat_minor": 4
}
